{
 "cells": [
  {
   "cell_type": "code",
   "execution_count": 2,
   "id": "fd31ecee-78c3-45b8-ad0b-3ef0bef29a85",
   "metadata": {},
   "outputs": [],
   "source": [
    "from numpy import loadtxt\n",
    "import pandas as pd\n",
    "from sklearn.inspection import permutation_importance\n",
    "from sklearn.neural_network import MLPClassifier\n",
    "from sklearn.neighbors import KNeighborsClassifier,RadiusNeighborsClassifier\n",
    "import numpy as np\n",
    "from sklearn.metrics import *\n",
    "from sklearn.ensemble import RandomForestClassifier, ExtraTreesClassifier, GradientBoostingClassifier, AdaBoostClassifier\n",
    "from sklearn.tree import DecisionTreeClassifier, ExtraTreeClassifier\n",
    "from sklearn.svm import LinearSVC,SVC,NuSVC\n",
    "from sklearn.linear_model import ElasticNetCV, LassoCV, LogisticRegressionCV,RidgeClassifierCV, ElasticNet, Lasso, LogisticRegression, RidgeClassifier, SGDClassifier, PassiveAggressiveClassifier, Perceptron\n",
    "from sklearn.naive_bayes import BernoulliNB\n",
    "from sklearn.discriminant_analysis import LinearDiscriminantAnalysis\n",
    "from xgboost import XGBClassifier\n",
    "import matplotlib.pyplot as plt\n",
    "import csv\n",
    "from sklearn.model_selection import cross_val_score\n",
    "from sklearn.metrics import roc_auc_score\n",
    "from sklearn.model_selection import RepeatedStratifiedKFold\n",
    "import pickle\n",
    "import ast\n",
    "from sklearn.calibration import CalibratedClassifierCV"
   ]
  },
  {
   "cell_type": "code",
   "execution_count": 3,
   "id": "fb3b65aa-58a5-4fe9-a2ee-2ebf9f1c193c",
   "metadata": {},
   "outputs": [],
   "source": [
    "random_num = 1\n",
    "data = \"./归一化后的数据.xlsx\"\n",
    "data_test = \"./归一化后的数据.xlsx\""
   ]
  },
  {
   "cell_type": "code",
   "execution_count": 19,
   "id": "df7f20be-c99f-40a4-8767-103daad2527c",
   "metadata": {
    "scrolled": true
   },
   "outputs": [
    {
     "name": "stdout",
     "output_type": "stream",
     "text": [
      "[1]ensemble\n",
      "[2]tree\n",
      "[3]linear\n",
      "[4]svm\n",
      "[5]bayes\n",
      "[6]logistic\n",
      "[7]neural network\n",
      "[8]neighbor\n",
      "请选择类型：5\n",
      "[a]BernoulliNB\n",
      "请选择模型:a\n",
      "model_out: BernoulliNB(alpha=1.0101010101010102, binarize=0.30303030303030304, class_prior=None, fit_prior=True)\n",
      "train_AUC: 0.9259830147703902\n",
      "External validation 训练集AUC: 0.9377892488430046\n",
      "External validation 留出集AUC: 0.9550000000000001\n",
      "External validation 西溪验证集AUC: 0.8233333333333334\n",
      "External validation 浙一验证集AUC: 0.8771121351766512\n"
     ]
    },
    {
     "name": "stderr",
     "output_type": "stream",
     "text": [
      "[Parallel(n_jobs=-1)]: Using backend LokyBackend with 16 concurrent workers.\n",
      "[Parallel(n_jobs=-1)]: Done   9 tasks      | elapsed:    0.0s\n",
      "[Parallel(n_jobs=-1)]: Done  45 out of  50 | elapsed:    0.0s remaining:    0.0s\n",
      "[Parallel(n_jobs=-1)]: Done  50 out of  50 | elapsed:    0.0s finished\n"
     ]
    }
   ],
   "source": [
    "#模型选择\n",
    "print('[1]ensemble\\n[2]tree\\n[3]linear\\n[4]svm\\n[5]bayes\\n[6]logistic\\n[7]neural network\\n[8]neighbor')\n",
    "leixing = input('请选择类型：')\n",
    "if leixing == '1':\n",
    "    print('[a]AdaBoost\\n[b]RandomForest\\n[c]GradientBoosting\\n[d]ExtraTree\\n[e]XGBoost')\n",
    "    model_all = {'a':'AdaBoostClassifier(algorithm=\"SAMME\", learning_rate=0.14999999999999999, random_state=1)',\n",
    "                 'b':'RandomForestClassifier(criterion= \"entropy\", max_depth=9, max_features=0.2, n_estimators=97,random_state=1)',\n",
    "                 'c':'GradientBoostingClassifier(learning_rate=0.09, max_depth=4, max_features=0.06999999999999999, n_estimators=90, subsample=0.7999999999999999, random_state=1)',\n",
    "                 'd':'ExtraTreesClassifier(criterion=\"gini\", max_depth=12, max_features=0.06999999999999999,n_estimators=64, random_state=1)'}\n",
    "                 #'e':'XGBClassifier(max_depth=1,random_state=1,seed = 1)'}\n",
    "elif leixing == '2':\n",
    "    print('[a]DecisionTree\\n[b]ExtraTree')\n",
    "    model_all = {'a':'DecisionTreeClassifier(criterion=\"entropy\", splitter=\"best\", max_depth=4, max_features=3,random_state=1)', \n",
    "                 'b':'ExtraTreeClassifier(criterion=\"entropy\", max_depth=4, max_features=3,splitter=\"best\",random_state=1)'}\n",
    "elif leixing == '3':\n",
    "    print('[a]ElasticNet\\n[b]LASSO\\n[c]Ridge\\n[d]SDG\\n[e]感知机\\n[f]PAC')\n",
    "    model_all = {#'a': 'ElasticNetCV(random_state = random_num)', \n",
    "                 #'b': 'LassoCV(random_state = random_num)',\n",
    "                'c':'RidgeClassifierCV(alphas=38.1, fit_intercept=True)',#这个模型不能设置随机数种子\n",
    "                'd':'SGDClassifier(alpha=0.060000000000000005, fit_intercept=True, l1_ratio=0.4, learning_rate=\"optimal\", loss=\"modified_huber\", penalty=\"elasticnet\", random_state=1)',\n",
    "                'e':'Perceptron(alpha=5.099999999999999e-05, fit_intercept=True, penalty=\"l2\",random_state=1)',\n",
    "                'f':'PassiveAggressiveClassifier(C=0.007, fit_intercept=True, random_state = 1)'}\n",
    "elif leixing == '4':\n",
    "    print('[a]LinearSVC\\n[b]SVC\\n[c]LDA')\n",
    "    model_all = {'a': 'LinearSVC(C=0.15000000000000002, dual=False, penalty=\"l1\", random_state=1)',\n",
    "                 'b': 'SVC(C=113, gamma=0.0009000000000000001, kernel=\"rbf\", random_state=1)'}\n",
    "                 #'c':'LinearDiscriminantAnalysis(shrinkage=\"auto\", solver=\"lsqr\")'}\n",
    "elif leixing == '5':\n",
    "    print('[a]BernoulliNB')\n",
    "    model_all = {'a':'BernoulliNB(alpha=1.0101010101010102, binarize=0.30303030303030304, class_prior=None, fit_prior=True)'}#这个模型不能设置随机数种子\n",
    "    \n",
    "model_want = input('请选择模型:')\n",
    "model_out = model_all.get(model_want)\n",
    "print(\"model_out:\",model_out)\n",
    "\n",
    "# 载入数据集\n",
    "excelFile = data\n",
    "dataset = pd.DataFrame(pd.read_excel(excelFile,sheet_name=\"训练集\"))\n",
    "x_train = dataset[dataset.columns[1:]]\n",
    "y_train = dataset[['Group']]\n",
    "excelFile_test = data_test\n",
    "dataset_test_1 = pd.DataFrame(pd.read_excel(excelFile_test, sheet_name=\"留出集\"))\n",
    "x_test_1 = dataset_test_1[dataset_test_1.columns[1:]]\n",
    "y_test_1 = dataset_test_1[['Group']]\n",
    "dataset_test_2 = pd.DataFrame(pd.read_excel(excelFile_test, sheet_name=\"西溪验证集\"))\n",
    "x_test_2 = dataset_test_2[dataset_test_2.columns[1:]]\n",
    "y_test_2 = dataset_test_2[['Group']]\n",
    "dataset_test_3 = pd.DataFrame(pd.read_excel(excelFile_test, sheet_name=\"浙一验证集\"))\n",
    "x_test_3 = dataset_test_3[dataset_test_3.columns[1:]]\n",
    "y_test_3 = dataset_test_3[['Group']]\n",
    "\n",
    "\n",
    "model =eval(model_out)\n",
    "# model = CalibratedClassifierCV(base_estimator=model, method='sigmoid', cv=5)\n",
    "# cv = RepeatedStratifiedKFold(n_splits=5, n_repeats=10, random_state=1)\n",
    "model.fit(x_train, y_train.values.ravel())\n",
    "# scores = cross_val_score(model, x_train, y_train.values.ravel(), cv=cv, n_jobs=-1, scoring='roc_auc', verbose=2)\n",
    "scores = cross_val_score(model, x_train, y_train, cv=RepeatedStratifiedKFold(n_splits=5, n_repeats=10), n_jobs=-1, scoring='roc_auc', verbose=2)\n",
    "print('train_AUC:', scores.mean())\n",
    "\n",
    "\n",
    "if leixing == '3' or leixing == '4':\n",
    "    y_pred = model.decision_function(x_train)\n",
    "    y_pred_1 = model.decision_function(x_test_1)\n",
    "    y_pred_2 = model.decision_function(x_test_2)\n",
    "    y_pred_3 = model.decision_function(x_test_3)\n",
    "else:    \n",
    "    y_pred = model.predict_proba(x_train)[:, 1]\n",
    "    y_pred_1 = model.predict_proba(x_test_1)[:, 1]\n",
    "    y_pred_2 = model.predict_proba(x_test_2)[:, 1]\n",
    "    y_pred_3 = model.predict_proba(x_test_3)[:, 1]\n",
    "\n",
    "\n",
    "auc_1 = roc_auc_score(y_train, y_pred)\n",
    "auc_2 = roc_auc_score(y_test_1, y_pred_1)\n",
    "auc_3 = roc_auc_score(y_test_2, y_pred_2)\n",
    "auc_4 = roc_auc_score(y_test_3, y_pred_3)\n",
    "print('External validation 训练集AUC:', auc_1)\n",
    "print('External validation 留出集AUC:', auc_2)\n",
    "print('External validation 西溪验证集AUC:', auc_3)\n",
    "print('External validation 浙一验证集AUC:', auc_4)"
   ]
  },
  {
   "cell_type": "markdown",
   "id": "2e293799",
   "metadata": {},
   "source": [
    "# y_pred"
   ]
  },
  {
   "cell_type": "code",
   "execution_count": 32,
   "id": "571fbb4f-7337-4532-847f-82127442be43",
   "metadata": {},
   "outputs": [
    {
     "name": "stdout",
     "output_type": "stream",
     "text": [
      "[1]ensemble\n",
      "[2]tree\n",
      "[3]linear\n",
      "[4]svm\n",
      "[5]bayes\n",
      "[6]logistic\n",
      "[7]neural network\n",
      "[8]neighbor\n"
     ]
    },
    {
     "name": "stdin",
     "output_type": "stream",
     "text": [
      "请选择类型： 2\n"
     ]
    },
    {
     "name": "stdout",
     "output_type": "stream",
     "text": [
      "[a]DecisionTree\n",
      "[b]ExtraTree\n"
     ]
    },
    {
     "name": "stdin",
     "output_type": "stream",
     "text": [
      "请选择模型: 1\n"
     ]
    },
    {
     "name": "stdout",
     "output_type": "stream",
     "text": [
      "model_out: None\n"
     ]
    },
    {
     "ename": "TypeError",
     "evalue": "eval() arg 1 must be a string, bytes or code object",
     "output_type": "error",
     "traceback": [
      "\u001b[0;31m---------------------------------------------------------------------------\u001b[0m",
      "\u001b[0;31mTypeError\u001b[0m                                 Traceback (most recent call last)",
      "Cell \u001b[0;32mIn[32], line 51\u001b[0m\n\u001b[1;32m     48\u001b[0m y_test \u001b[38;5;241m=\u001b[39m dataset_test[[\u001b[38;5;124m'\u001b[39m\u001b[38;5;124mGroup\u001b[39m\u001b[38;5;124m'\u001b[39m]]\n\u001b[1;32m     50\u001b[0m \u001b[38;5;66;03m#模型构建\u001b[39;00m\n\u001b[0;32m---> 51\u001b[0m model \u001b[38;5;241m=\u001b[39m\u001b[38;5;28;43meval\u001b[39;49m\u001b[43m(\u001b[49m\u001b[43mmodel_out\u001b[49m\u001b[43m)\u001b[49m\n\u001b[1;32m     52\u001b[0m model\u001b[38;5;241m.\u001b[39mfit(x_train, y_train\u001b[38;5;241m.\u001b[39mastype(\u001b[38;5;124m'\u001b[39m\u001b[38;5;124mint\u001b[39m\u001b[38;5;124m'\u001b[39m))\n\u001b[1;32m     54\u001b[0m \u001b[38;5;66;03m# AUC\u001b[39;00m\n",
      "\u001b[0;31mTypeError\u001b[0m: eval() arg 1 must be a string, bytes or code object"
     ]
    }
   ],
   "source": [
    "random_num = 1\n",
    "data = \"./归一化后的数据/归一化后的数据.xlsx\"\n",
    "data_test = \"./归一化后的数据/归一化后的数据.xlsx\"\n",
    "\n",
    "#模型选择\n",
    "print('[1]ensemble\\n[2]tree\\n[3]linear\\n[4]svm\\n[5]bayes\\n[6]logistic\\n[7]neural network\\n[8]neighbor')\n",
    "leixing = input('请选择类型：')\n",
    "if leixing == '1':\n",
    "    print('[a]AdaBoost\\n[b]RandomForest\\n[c]GradientBoosting\\n[d]ExtraTree\\n[e]XGBoost')\n",
    "    model_all = {'a':'AdaBoostClassifier(algorithm=\"SAMME\", learning_rate=0.14999999999999999, random_state=1)',\n",
    "                 'b':'RandomForestClassifier(criterion= \"entropy\", max_depth=9, max_features=0.2, n_estimators=97,random_state=1)',\n",
    "                 'c':'GradientBoostingClassifier(criterion=\"friedman_mse\", learning_rate=0.08, loss=\"exponential\", max_depth=6,max_features=0.1, n_estimators=85, subsample=0.6, random_state=1)',\n",
    "                 'd':'ExtraTreesClassifier(criterion=\"gini\", max_depth=12, max_features=0.06999999999999999,n_estimators=64, random_state=1)'}\n",
    "                 #'e':'XGBClassifier(max_depth=1,random_state=1,seed = 1)'}\n",
    "elif leixing == '2':\n",
    "    print('[a]DecisionTree\\n[b]ExtraTree')\n",
    "    model_all = {'a':'DecisionTreeClassifier(criterion=\"entropy\", splitter=\"best\", max_depth=4, max_features=3,random_state=1)', \n",
    "                 'b':'ExtraTreeClassifier(criterion=\"entropy\", max_depth=4, max_features=3,splitter=\"best\",random_state=1)'}\n",
    "elif leixing == '3':\n",
    "    print('[a]ElasticNet\\n[b]LASSO\\n[c]Ridge\\n[d]SDG\\n[e]感知机\\n[f]PAC')\n",
    "    model_all = {#'a': 'ElasticNetCV(random_state = random_num)', \n",
    "                 #'b': 'LassoCV(random_state = random_num)',\n",
    "                'c':'RidgeClassifierCV(alphas=38.1, fit_intercept=True)',#这个模型不能设置随机数种子\n",
    "                'd':'SGDClassifier(alpha=0.060000000000000005, fit_intercept=True, l1_ratio=0.4, learning_rate=\"optimal\", loss=\"modified_huber\", penalty=\"elasticnet\", random_state=1)',\n",
    "                'e':'Perceptron(alpha=5.099999999999999e-05, fit_intercept=True, penalty=\"l2\",random_state=1)',\n",
    "                'f':'PassiveAggressiveClassifier(C=0.007, fit_intercept=True, random_state = 1)'}\n",
    "elif leixing == '4':\n",
    "    print('[a]LinearSVC\\n[b]SVC\\n[c]LDA')\n",
    "    model_all = {'a': 'LinearSVC(C=0.15000000000000002, dual=False, penalty=\"l1\", random_state=1)',\n",
    "                 'b': 'SVC(C=113, gamma=0.0009000000000000001, kernel=\"rbf\", random_state=1)'}\n",
    "                 #'c':'LinearDiscriminantAnalysis(shrinkage=\"auto\", solver=\"lsqr\")'}\n",
    "elif leixing == '5':\n",
    "    print('[a]BernoulliNB')\n",
    "    model_all = {'a':'BernoulliNB(alpha=1.0101010101010102, binarize=0.30303030303030304, class_prior=None, fit_prior=True)'}#这个模型不能设置随机数种子\n",
    "    \n",
    "model_want = input('请选择模型:')\n",
    "model_out = model_all.get(model_want)\n",
    "print(\"model_out:\",model_out)\n",
    "# 载入数据集\n",
    "\n",
    "excelFile = data\n",
    "dataset = pd.DataFrame(pd.read_excel(excelFile, sheet_name=\"\"))\n",
    "x_train = dataset[dataset.columns[1:-1]]\n",
    "y_train = dataset[['Group']]\n",
    "excelFile_test = data_test\n",
    "dataset_test = pd.DataFrame(pd.read_excel(excelFile_test, sheet_name=\"\"))\n",
    "x_test = dataset_test[dataset_test.columns[1:-1]]\n",
    "y_test = dataset_test[['Group']]\n",
    "\n",
    "#模型构建\n",
    "model =eval(model_out)\n",
    "model.fit(x_train, y_train.astype('int'))\n",
    "\n",
    "# AUC\n",
    "scores = cross_val_score(model, x_train, y_train, cv=RepeatedStratifiedKFold(n_splits=5, n_repeats=10), n_jobs=-1, scoring='roc_auc', verbose=2)#cv=RepeatedStratifiedKFold(n_splits=5, n_repeats=10)5折交叉验证默认跑5次（默认为1），这时候改成10，这个意思是数据集划分重新划分10次，抽出一份作为验证集的过程有50种可能\n",
    "# 当verbose=0时，表示不输出任何信息；\n",
    "# 当verbose=1时，表示输出部分信息，例如每次交叉验证的时间；\n",
    "# 当verbose=2时，表示输出详细信息，例如每个fold的分数等。\n",
    "print('train_AUC:', scores.mean())\n",
    "\n",
    "# 保存模型参数到磁盘上\n",
    "with open('model.pkl', 'wb') as f:\n",
    "    pickle.dump(model, f)\n",
    "    \n",
    "# 重新加载模型参数    \n",
    "with open('model.pkl', 'rb') as f:\n",
    "    model = pickle.load(f)\n",
    "\n",
    "# 在验证集上评估模型性能\n",
    "\n",
    "# if leixing == '3' or leixing == '4':#and model_want == 'a'\n",
    "#     y_pred = model.predict(x_test)\n",
    "# else:\n",
    "y_pred = model.predict_proba(x_test)[:, 1]\n",
    "auc = roc_auc_score(y_test, y_pred)\n",
    "print('External validation AUC:', auc)"
   ]
  },
  {
   "cell_type": "code",
   "execution_count": null,
   "id": "6e9d3abb-f179-4114-8c45-bee721e46b01",
   "metadata": {},
   "outputs": [],
   "source": []
  }
 ],
 "metadata": {
  "kernelspec": {
   "display_name": "Python 3 (ipykernel)",
   "language": "python",
   "name": "python3"
  },
  "language_info": {
   "codemirror_mode": {
    "name": "ipython",
    "version": 3
   },
   "file_extension": ".py",
   "mimetype": "text/x-python",
   "name": "python",
   "nbconvert_exporter": "python",
   "pygments_lexer": "ipython3",
   "version": "3.9.13"
  }
 },
 "nbformat": 4,
 "nbformat_minor": 5
}
